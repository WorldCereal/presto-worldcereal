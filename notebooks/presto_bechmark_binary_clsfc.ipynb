{
 "cells": [
  {
   "cell_type": "code",
   "execution_count": 1,
   "metadata": {},
   "outputs": [],
   "source": [
    "import sys\n",
    "import numpy as np\n",
    "import pandas as pd\n",
    "import gc\n",
    "import re\n",
    "\n",
    "from catboost import CatBoostClassifier\n",
    "from sklearn.metrics import f1_score\n",
    "\n",
    "import warnings\n",
    "warnings.filterwarnings(action='ignore')"
   ]
  },
  {
   "cell_type": "code",
   "execution_count": 2,
   "metadata": {},
   "outputs": [],
   "source": [
    "def process_input_df(fpath):\n",
    "    tdf = pd.read_parquet(fpath)\n",
    "    tdf['CT'].replace(0, np.nan, inplace=True)\n",
    "    tdf['CT'].fillna(tdf['OUTPUT'], inplace=True)\n",
    "    \n",
    "    tdf = tdf[tdf.isna().sum(axis=1)==0]\n",
    "    tdf = tdf[tdf['OUTPUT']!=0].reset_index(drop=True)\n",
    "\n",
    "    for tcol in ['start_date','end_date','valid_date']:\n",
    "        if tcol in tdf.columns:\n",
    "            tdf[tcol] = pd.to_datetime(tdf[tcol])\n",
    "\n",
    "    tdf['is_crop'] = tdf['OUTPUT']==11\n",
    "    \n",
    "    tdf.set_index(['location_id','ref_id','pixelids'], inplace=True)\n",
    "\n",
    "    return tdf "
   ]
  },
  {
   "cell_type": "code",
   "execution_count": 3,
   "metadata": {},
   "outputs": [],
   "source": [
    "tpath = '/vitodata/worldcereal/features/features-presto-monthly-nointerp/annual_CIB/'\n",
    "\n",
    "trn_df = process_input_df('{}CAL/training_df_LC.parquet'.format(tpath))\n",
    "val_df = process_input_df('{}VAL/training_df_LC.parquet'.format(tpath))"
   ]
  },
  {
   "cell_type": "code",
   "execution_count": 4,
   "metadata": {},
   "outputs": [],
   "source": [
    "presto_df_trn = pd.read_parquet('{}CAL/training_df_LC_presto-worldcereal.parquet'.format(tpath))\n",
    "presto_df_val = pd.read_parquet('{}VAL/training_df_LC_presto-worldcereal.parquet'.format(tpath))\n",
    "\n",
    "presto_df_trn.reset_index(inplace=True)\n",
    "presto_df_val.reset_index(inplace=True)\n",
    "\n",
    "presto_df_trn.set_index(['location_id','ref_id','pixelids'], inplace=True)\n",
    "presto_df_val.set_index(['location_id','ref_id','pixelids'], inplace=True)\n",
    "\n",
    "presto_emb_colnames = [xx for xx in presto_df_val.columns if 'presto_ft' in xx]"
   ]
  },
  {
   "cell_type": "code",
   "execution_count": 5,
   "metadata": {},
   "outputs": [],
   "source": [
    "trn_df = pd.concat([trn_df,presto_df_trn[presto_emb_colnames]], join='inner', axis=1)\n",
    "val_df = pd.concat([val_df,presto_df_val[presto_emb_colnames]], join='inner', axis=1)"
   ]
  },
  {
   "cell_type": "code",
   "execution_count": 6,
   "metadata": {},
   "outputs": [
    {
     "data": {
      "text/plain": [
       "0"
      ]
     },
     "execution_count": 6,
     "metadata": {},
     "output_type": "execute_result"
    }
   ],
   "source": [
    "del presto_df_trn, presto_df_val\n",
    "gc.collect()"
   ]
  },
  {
   "cell_type": "code",
   "execution_count": 7,
   "metadata": {},
   "outputs": [],
   "source": [
    "n_months = 12\n",
    "\n",
    "optical12_feats = [xx for xx in trn_df.columns if re.search(r'OPTICAL.*ts({})-'.format('|'.join(map(str, list(range(n_months))))), xx)]\n",
    "sar12_feats = [xx for xx in trn_df.columns if re.search(r'SAR.*ts({})-'.format('|'.join(map(str, list(range(n_months))))), xx)]\n",
    "temp12_feats  = [xx for xx in trn_df.columns if re.search(r'METEO-temp.*ts({})-'.format('|'.join(map(str, list(range(n_months))))), xx)]\n",
    "prcp12_feats  = [xx for xx in trn_df.columns if re.search(r'METEO-precip.*ts({})-'.format('|'.join(map(str, list(range(n_months))))), xx)]\n",
    "dem_feats = ['DEM-alt-20m', 'DEM-slo-20m']\n",
    "latlon_feats = ['lat','lon']\n",
    "presto_emb_colnames = [xx for xx in trn_df.columns if 'presto' in xx]"
   ]
  },
  {
   "cell_type": "code",
   "execution_count": 19,
   "metadata": {},
   "outputs": [],
   "source": [
    "label_colname = 'is_crop'\n",
    "\n",
    "# tfeatures = optical12_feats + sar12_feats + temp12_feats + prcp12_feats + dem_feats + latlon_feats\n",
    "# tfeatures = presto_emb_colnames\n",
    "tfeatures = optical12_feats + sar12_feats + temp12_feats + prcp12_feats + dem_feats + latlon_feats + presto_emb_colnames\n",
    "\n",
    "train_years = [2017,2018,2019,2020]\n",
    "test_aez = [22190]\n",
    "\n",
    "X_trn_df = trn_df[\n",
    "    (trn_df['end_date'].dt.year.isin(train_years)) & \n",
    "    (~trn_df['aez_zoneid'].isin(test_aez))][tfeatures]\n",
    "y_trn_df = trn_df[\n",
    "    (trn_df['end_date'].dt.year.isin(train_years)) & \n",
    "    (~trn_df['aez_zoneid'].isin(test_aez))][label_colname]\n",
    "\n",
    "X_test = val_df[tfeatures]\n",
    "X_trn_not_used = trn_df[\n",
    "    (~trn_df['end_date'].dt.year.isin(train_years)) | \n",
    "    (trn_df['aez_zoneid'].isin(test_aez))][tfeatures].reset_index(drop=True)\n",
    "X_test = pd.concat([X_test,X_trn_not_used], axis=0)\n",
    "\n",
    "y_test = val_df[label_colname]\n",
    "y_trn_not_used = trn_df[\n",
    "    (~trn_df['end_date'].dt.year.isin(train_years)) | \n",
    "    (trn_df['aez_zoneid'].isin(test_aez))][label_colname].reset_index(drop=True)\n",
    "y_test = pd.concat([y_test,y_trn_not_used], axis=0)"
   ]
  },
  {
   "cell_type": "code",
   "execution_count": 20,
   "metadata": {},
   "outputs": [
    {
     "name": "stdout",
     "output_type": "stream",
     "text": [
      "0:\tlearn: 0.6050283\ttotal: 492ms\tremaining: 4m 5s\n",
      "50:\tlearn: 0.7609113\ttotal: 18.2s\tremaining: 2m 40s\n",
      "100:\tlearn: 0.7864034\ttotal: 36s\tremaining: 2m 22s\n",
      "150:\tlearn: 0.8010536\ttotal: 53.9s\tremaining: 2m 4s\n",
      "200:\tlearn: 0.8127373\ttotal: 1m 12s\tremaining: 1m 47s\n",
      "250:\tlearn: 0.8217994\ttotal: 1m 30s\tremaining: 1m 29s\n",
      "300:\tlearn: 0.8298410\ttotal: 1m 48s\tremaining: 1m 11s\n",
      "350:\tlearn: 0.8364297\ttotal: 2m 6s\tremaining: 53.8s\n",
      "400:\tlearn: 0.8421372\ttotal: 2m 24s\tremaining: 35.7s\n",
      "450:\tlearn: 0.8473681\ttotal: 2m 42s\tremaining: 17.7s\n",
      "499:\tlearn: 0.8524563\ttotal: 3m\tremaining: 0us\n"
     ]
    }
   ],
   "source": [
    "model = CatBoostClassifier(\n",
    "    iterations=500, \n",
    "    depth=8,\n",
    "    eval_metric='F1',\n",
    "    learning_rate=0.3,\n",
    "    l2_leaf_reg=100,\n",
    "    verbose=50,\n",
    "    random_seed=42,\n",
    "    )\n",
    "\n",
    "model.fit(X_trn_df, y_trn_df)\n",
    "pred = model.predict(X_test).flatten()\n",
    "pred = np.array([xx=='True' for xx in pred])"
   ]
  },
  {
   "cell_type": "code",
   "execution_count": 21,
   "metadata": {},
   "outputs": [
    {
     "data": {
      "text/plain": [
       "0.6656457653534164"
      ]
     },
     "execution_count": 21,
     "metadata": {},
     "output_type": "execute_result"
    }
   ],
   "source": [
    "f1_score(y_test.values, pred)"
   ]
  },
  {
   "cell_type": "code",
   "execution_count": 22,
   "metadata": {},
   "outputs": [],
   "source": [
    "preds_df = pd.DataFrame([y_test.values, pred]).transpose()\n",
    "preds_df.columns = ['true','pred']\n",
    "\n",
    "for attr in ['aez_zoneid','end_date']:\n",
    "    preds_df[attr] = list(val_df[attr].values) + list(trn_df[\n",
    "        (~trn_df['end_date'].dt.year.isin(train_years)) | \n",
    "        (trn_df['aez_zoneid'].isin(test_aez))][attr].values)\n",
    "\n",
    "preds_df['year'] = preds_df['end_date'].dt.year"
   ]
  },
  {
   "cell_type": "code",
   "execution_count": null,
   "metadata": {},
   "outputs": [
    {
     "data": {
      "text/html": [
       "<div>\n",
       "<style scoped>\n",
       "    .dataframe tbody tr th:only-of-type {\n",
       "        vertical-align: middle;\n",
       "    }\n",
       "\n",
       "    .dataframe tbody tr th {\n",
       "        vertical-align: top;\n",
       "    }\n",
       "\n",
       "    .dataframe thead th {\n",
       "        text-align: right;\n",
       "    }\n",
       "</style>\n",
       "<table border=\"1\" class=\"dataframe\">\n",
       "  <thead>\n",
       "    <tr style=\"text-align: right;\">\n",
       "      <th></th>\n",
       "      <th>n_pixels</th>\n",
       "      <th>f1</th>\n",
       "    </tr>\n",
       "    <tr>\n",
       "      <th>aez_zoneid</th>\n",
       "      <th></th>\n",
       "      <th></th>\n",
       "    </tr>\n",
       "  </thead>\n",
       "  <tbody>\n",
       "    <tr>\n",
       "      <th>22190</th>\n",
       "      <td>255347.0</td>\n",
       "      <td>0.748207</td>\n",
       "    </tr>\n",
       "    <tr>\n",
       "      <th>46172</th>\n",
       "      <td>85541.0</td>\n",
       "      <td>0.779596</td>\n",
       "    </tr>\n",
       "    <tr>\n",
       "      <th>43153</th>\n",
       "      <td>42640.0</td>\n",
       "      <td>0.609698</td>\n",
       "    </tr>\n",
       "    <tr>\n",
       "      <th>12048</th>\n",
       "      <td>15700.0</td>\n",
       "      <td>0.821351</td>\n",
       "    </tr>\n",
       "    <tr>\n",
       "      <th>46173</th>\n",
       "      <td>13921.0</td>\n",
       "      <td>0.733736</td>\n",
       "    </tr>\n",
       "  </tbody>\n",
       "</table>\n",
       "</div>"
      ],
      "text/plain": [
       "            n_pixels        f1\n",
       "aez_zoneid                    \n",
       "22190       255347.0  0.748207\n",
       "46172        85541.0  0.779596\n",
       "43153        42640.0  0.609698\n",
       "12048        15700.0  0.821351\n",
       "46173        13921.0  0.733736"
      ]
     },
     "execution_count": 12,
     "metadata": {},
     "output_type": "execute_result"
    }
   ],
   "source": [
    "# run with raw features\n",
    "preds_df.groupby('aez_zoneid').apply(lambda xx: pd.Series({\n",
    "      'n_pixels': xx['aez_zoneid'].count(),\n",
    "      'f1': f1_score(xx['true'], xx['pred'])\n",
    "  })).sort_values(by='n_pixels', ascending=False).iloc[:5]"
   ]
  },
  {
   "cell_type": "code",
   "execution_count": 18,
   "metadata": {},
   "outputs": [
    {
     "data": {
      "text/html": [
       "<div>\n",
       "<style scoped>\n",
       "    .dataframe tbody tr th:only-of-type {\n",
       "        vertical-align: middle;\n",
       "    }\n",
       "\n",
       "    .dataframe tbody tr th {\n",
       "        vertical-align: top;\n",
       "    }\n",
       "\n",
       "    .dataframe thead th {\n",
       "        text-align: right;\n",
       "    }\n",
       "</style>\n",
       "<table border=\"1\" class=\"dataframe\">\n",
       "  <thead>\n",
       "    <tr style=\"text-align: right;\">\n",
       "      <th></th>\n",
       "      <th>n_pixels</th>\n",
       "      <th>f1</th>\n",
       "    </tr>\n",
       "    <tr>\n",
       "      <th>aez_zoneid</th>\n",
       "      <th></th>\n",
       "      <th></th>\n",
       "    </tr>\n",
       "  </thead>\n",
       "  <tbody>\n",
       "    <tr>\n",
       "      <th>22190</th>\n",
       "      <td>255347.0</td>\n",
       "      <td>0.573395</td>\n",
       "    </tr>\n",
       "    <tr>\n",
       "      <th>46172</th>\n",
       "      <td>85541.0</td>\n",
       "      <td>0.753528</td>\n",
       "    </tr>\n",
       "    <tr>\n",
       "      <th>43153</th>\n",
       "      <td>42640.0</td>\n",
       "      <td>0.591042</td>\n",
       "    </tr>\n",
       "    <tr>\n",
       "      <th>12048</th>\n",
       "      <td>15700.0</td>\n",
       "      <td>0.802526</td>\n",
       "    </tr>\n",
       "    <tr>\n",
       "      <th>46173</th>\n",
       "      <td>13921.0</td>\n",
       "      <td>0.731675</td>\n",
       "    </tr>\n",
       "  </tbody>\n",
       "</table>\n",
       "</div>"
      ],
      "text/plain": [
       "            n_pixels        f1\n",
       "aez_zoneid                    \n",
       "22190       255347.0  0.573395\n",
       "46172        85541.0  0.753528\n",
       "43153        42640.0  0.591042\n",
       "12048        15700.0  0.802526\n",
       "46173        13921.0  0.731675"
      ]
     },
     "execution_count": 18,
     "metadata": {},
     "output_type": "execute_result"
    }
   ],
   "source": [
    "# run with presto features\n",
    "preds_df.groupby('aez_zoneid').apply(lambda xx: pd.Series({\n",
    "      'n_pixels': xx['aez_zoneid'].count(),\n",
    "      'f1': f1_score(xx['true'], xx['pred'])\n",
    "  })).sort_values(by='n_pixels', ascending=False).iloc[:5]"
   ]
  },
  {
   "cell_type": "code",
   "execution_count": 23,
   "metadata": {},
   "outputs": [
    {
     "data": {
      "text/html": [
       "<div>\n",
       "<style scoped>\n",
       "    .dataframe tbody tr th:only-of-type {\n",
       "        vertical-align: middle;\n",
       "    }\n",
       "\n",
       "    .dataframe tbody tr th {\n",
       "        vertical-align: top;\n",
       "    }\n",
       "\n",
       "    .dataframe thead th {\n",
       "        text-align: right;\n",
       "    }\n",
       "</style>\n",
       "<table border=\"1\" class=\"dataframe\">\n",
       "  <thead>\n",
       "    <tr style=\"text-align: right;\">\n",
       "      <th></th>\n",
       "      <th>n_pixels</th>\n",
       "      <th>f1</th>\n",
       "    </tr>\n",
       "    <tr>\n",
       "      <th>aez_zoneid</th>\n",
       "      <th></th>\n",
       "      <th></th>\n",
       "    </tr>\n",
       "  </thead>\n",
       "  <tbody>\n",
       "    <tr>\n",
       "      <th>22190</th>\n",
       "      <td>255347.0</td>\n",
       "      <td>0.679833</td>\n",
       "    </tr>\n",
       "    <tr>\n",
       "      <th>46172</th>\n",
       "      <td>85541.0</td>\n",
       "      <td>0.781380</td>\n",
       "    </tr>\n",
       "    <tr>\n",
       "      <th>43153</th>\n",
       "      <td>42640.0</td>\n",
       "      <td>0.612898</td>\n",
       "    </tr>\n",
       "    <tr>\n",
       "      <th>12048</th>\n",
       "      <td>15700.0</td>\n",
       "      <td>0.834195</td>\n",
       "    </tr>\n",
       "    <tr>\n",
       "      <th>46173</th>\n",
       "      <td>13921.0</td>\n",
       "      <td>0.738312</td>\n",
       "    </tr>\n",
       "  </tbody>\n",
       "</table>\n",
       "</div>"
      ],
      "text/plain": [
       "            n_pixels        f1\n",
       "aez_zoneid                    \n",
       "22190       255347.0  0.679833\n",
       "46172        85541.0  0.781380\n",
       "43153        42640.0  0.612898\n",
       "12048        15700.0  0.834195\n",
       "46173        13921.0  0.738312"
      ]
     },
     "execution_count": 23,
     "metadata": {},
     "output_type": "execute_result"
    }
   ],
   "source": [
    "# run with raw+presto features\n",
    "preds_df.groupby('aez_zoneid').apply(lambda xx: pd.Series({\n",
    "      'n_pixels': xx['aez_zoneid'].count(),\n",
    "      'f1': f1_score(xx['true'], xx['pred'])\n",
    "  })).sort_values(by='n_pixels', ascending=False).iloc[:5]"
   ]
  }
 ],
 "metadata": {
  "kernelspec": {
   "display_name": "Python 3 (ipykernel)",
   "language": "python",
   "name": "python3"
  },
  "language_info": {
   "codemirror_mode": {
    "name": "ipython",
    "version": 3
   },
   "file_extension": ".py",
   "mimetype": "text/x-python",
   "name": "python",
   "nbconvert_exporter": "python",
   "pygments_lexer": "ipython3",
   "version": "3.9.13"
  }
 },
 "nbformat": 4,
 "nbformat_minor": 2
}
